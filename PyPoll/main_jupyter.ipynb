{
 "cells": [
  {
   "cell_type": "code",
   "execution_count": 23,
   "metadata": {},
   "outputs": [],
   "source": [
    "#add imports\n",
    "import os\n",
    "import csv\n",
    "#set up all variables I will need\n",
    "total_votes = 0 #keep count of votes\n",
    "khan = 0 #keep count of khan votes\n",
    "correy = 0 #keep count of correy votes\n",
    "li = 0 #keep count of li votes\n",
    "otooly = 0 #keep count pf otooly votes\n",
    "candidates = [] #list for candidates\n",
    "d = {} #dictionary for results to gert max"
   ]
  },
  {
   "cell_type": "code",
   "execution_count": 24,
   "metadata": {},
   "outputs": [],
   "source": [
    "#read csv file\n",
    "csvpath = os.path.join('.','Resources','election_data.csv')"
   ]
  },
  {
   "cell_type": "code",
   "execution_count": 25,
   "metadata": {},
   "outputs": [],
   "source": [
    "with open(csvpath, newline='') as csvfile: #will go through each row\n",
    "    csvreader = csv.reader(csvfile, delimiter = ',')\n",
    "    csv_header = next(csvreader)\n",
    "    for row in csvreader:\n",
    "        total_votes = total_votes + 1 #adds to vote total\n",
    "        if row[2] not in candidates: #adds to candidate list\n",
    "            candidates.append(row[2])\n",
    "            \n",
    "        \n",
    "        if row[2] == \"Khan\": #counts only khan votes\n",
    "            khan = khan + 1\n",
    "        elif row[2] == \"Correy\": #counts only correy votes\n",
    "            correy = correy + 1\n",
    "        elif row[2] == \"Li\": #counts only li votes\n",
    "            li = li + 1\n",
    "        else:\n",
    "            otooly = otooly + 1 #counts only ottoley votes\n",
    "        \n",
    "        \n",
    "        #finds percent of total for each candidate and stores it\n",
    "        percent_khan = '{percent:.2%}'.format(percent=khan/total_votes)\n",
    "        percent_correy = '{percent:.2%}'.format(percent=correy/total_votes)    \n",
    "        percent_li = '{percent:.2%}'.format(percent=li/total_votes)\n",
    "        percent_otooly = '{percent:.2%}'.format(percent=otooly/total_votes)\n",
    "        \n",
    "        \n",
    "        #adds to dictionary the candidate, percent and total votes\n",
    "        d[\"Khan\"] = [percent_khan, khan]\n",
    "        d[\"Correy\"] = [percent_correy, correy]\n",
    "        d[\"Li\"] = [percent_li, li]\n",
    "        d[\"O'Tooley\"] = [percent_otooly, otooly]\n",
    "    \n",
    "#finds max from the dictionary\n",
    "maximum = max(d, key=d.get)\n",
    "\n",
    "        "
   ]
  },
  {
   "cell_type": "code",
   "execution_count": 26,
   "metadata": {},
   "outputs": [],
   "source": [
    "#prints to pypoll txt file\n",
    "with open(\"pypoll.txt\", \"w\") as text_file:\n",
    "    print ('Election Results', file=text_file)\n",
    "    print ('---------------------------', file=text_file)\n",
    "    print (f'Total Votes: {total_votes}', file=text_file)\n",
    "    print ('---------------------------', file=text_file)\n",
    "    print (f'Khan: {percent_khan} ({khan})', file=text_file)\n",
    "    print (f'Correy: {percent_correy} ({correy})', file=text_file)\n",
    "    print (f'Li: {percent_li} ({li})', file=text_file)\n",
    "    print (f\"O'Tooley: {percent_otooly} ({otooly})\", file=text_file)\n",
    "    print ('---------------------------', file=text_file)\n",
    "    print (f'Winner: {maximum}', file=text_file)\n",
    "    print ('---------------------------', file=text_file)"
   ]
  },
  {
   "cell_type": "code",
   "execution_count": 27,
   "metadata": {},
   "outputs": [
    {
     "name": "stdout",
     "output_type": "stream",
     "text": [
      "Election Results\n",
      "---------------------------\n",
      "Total Votes: 3521001\n",
      "---------------------------\n",
      "Khan: 63.00% (2218231)\n",
      "Correy: 20.00% (704200)\n",
      "Li: 14.00% (492940)\n",
      "O'Tooley: 3.00% (105630)\n",
      "---------------------------\n",
      "Winner: Khan\n",
      "---------------------------\n"
     ]
    }
   ],
   "source": [
    "#prints to terminal\n",
    "print ('Election Results')\n",
    "print ('---------------------------')\n",
    "print (f'Total Votes: {total_votes}')\n",
    "print ('---------------------------')\n",
    "print (f'Khan: {percent_khan} ({khan})')\n",
    "print (f'Correy: {percent_correy} ({correy})')\n",
    "print (f'Li: {percent_li} ({li})')\n",
    "print (f\"O'Tooley: {percent_otooly} ({otooly})\")\n",
    "print ('---------------------------')\n",
    "print (f'Winner: {maximum}')\n",
    "print ('---------------------------')"
   ]
  },
  {
   "cell_type": "code",
   "execution_count": null,
   "metadata": {},
   "outputs": [],
   "source": []
  }
 ],
 "metadata": {
  "kernelspec": {
   "display_name": "Python 3",
   "language": "python",
   "name": "python3"
  },
  "language_info": {
   "codemirror_mode": {
    "name": "ipython",
    "version": 3
   },
   "file_extension": ".py",
   "mimetype": "text/x-python",
   "name": "python",
   "nbconvert_exporter": "python",
   "pygments_lexer": "ipython3",
   "version": "3.6.6"
  }
 },
 "nbformat": 4,
 "nbformat_minor": 2
}
