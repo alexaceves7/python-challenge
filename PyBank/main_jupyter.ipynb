{
 "cells": [
  {
   "cell_type": "code",
   "execution_count": 46,
   "metadata": {},
   "outputs": [],
   "source": [
    "#add imports\n",
    "import os\n",
    "import csv\n",
    "months = 0\n",
    "total_profit = 0\n",
    "month_change = 0\n",
    "previous_month = 0\n",
    "change = []\n",
    "d = {}"
   ]
  },
  {
   "cell_type": "code",
   "execution_count": 47,
   "metadata": {},
   "outputs": [],
   "source": [
    "#read csv file\n",
    "csvpath = os.path.join('.','Resources','budget_data.csv')"
   ]
  },
  {
   "cell_type": "code",
   "execution_count": 48,
   "metadata": {},
   "outputs": [],
   "source": [
    "#split up rows and add delimiter\n",
    "with open(csvpath, newline='') as csvfile:\n",
    "    csvreader = csv.reader(csvfile, delimiter = ',')\n",
    "    next (csvreader) #moves to next row to avoide header\n",
    "    count = 0\n",
    "    for row in csvreader: #going to go through each row\n",
    "        months = months + 1 #keeps count of total months\n",
    "        total_profit = total_profit + int(row[1]) #adds up total\n",
    "        month_change = float(row[1]) - previous_month #finds the monthly change\n",
    "        if previous_month != 0: #to avoid including the first row of data since no previous month data\n",
    "            change.append(month_change) #appends to change \n",
    "            d[str(row[0])] = round(month_change, 1)#adds change and the month to a dictionary\n",
    "        previous_month = float(row[1]) #makes the current month the previous month before going to next row\n",
    "        \n",
    "    \n",
    "    \n",
    "    \n",
    "    #calculates average change and saves it to varisble\n",
    "    average_change = round((sum(change)/len(change)), 2)\n",
    "   \n",
    "    \n",
    "    #gets the max and min from the d dictionary\n",
    "    maximum = max(d, key=d.get) \n",
    "          \n",
    "    minimum = min(d, key=d.get)\n",
    "   \n",
    "\n",
    "    "
   ]
  },
  {
   "cell_type": "code",
   "execution_count": 49,
   "metadata": {},
   "outputs": [],
   "source": [
    "# prints everything to pybank txt file\n",
    "with open(\"pybank.txt\", \"w\") as text_file:\n",
    "    print ('Financial Analysis', file=text_file)\n",
    "    print ('----------------------------', file=text_file)\n",
    "    print (f'Total Months: {months}',file=text_file)\n",
    "    print (f'Total : ${total_profit}',file=text_file)\n",
    "    print (f'Average Change: ${average_change}',file=text_file)\n",
    "    print (f'Greatest Increase in Profits: {maximum} (${int(d[maximum])})',file=text_file)\n",
    "    print (f'Greatest Decrease in Profits: {minimum} (${int(d[minimum])})',file=text_file)\n"
   ]
  },
  {
   "cell_type": "code",
   "execution_count": 50,
   "metadata": {},
   "outputs": [
    {
     "name": "stdout",
     "output_type": "stream",
     "text": [
      "Financial Analysis\n",
      "----------------------------\n",
      "Total Months: 86\n",
      "Total : $38382578\n",
      "Average Change: $-2315.12\n",
      "Greatest Increase in Profits: Feb-2012 ($1926159)\n",
      "Greatest Decrease in Profits: Sep-2013 ($-2196167)\n"
     ]
    }
   ],
   "source": [
    "#prints evrything to terminal\n",
    "print ('Financial Analysis')\n",
    "print ('----------------------------')\n",
    "print (f'Total Months: {months}')\n",
    "print (f'Total : ${total_profit}')\n",
    "print (f'Average Change: ${average_change}')\n",
    "print (f'Greatest Increase in Profits: {maximum} (${int(d[maximum])})')\n",
    "print (f'Greatest Decrease in Profits: {minimum} (${int(d[minimum])})')\n"
   ]
  },
  {
   "cell_type": "raw",
   "metadata": {},
   "source": []
  },
  {
   "cell_type": "code",
   "execution_count": null,
   "metadata": {},
   "outputs": [],
   "source": []
  }
 ],
 "metadata": {
  "kernelspec": {
   "display_name": "Python 3",
   "language": "python",
   "name": "python3"
  },
  "language_info": {
   "codemirror_mode": {
    "name": "ipython",
    "version": 3
   },
   "file_extension": ".py",
   "mimetype": "text/x-python",
   "name": "python",
   "nbconvert_exporter": "python",
   "pygments_lexer": "ipython3",
   "version": "3.6.6"
  }
 },
 "nbformat": 4,
 "nbformat_minor": 2
}
